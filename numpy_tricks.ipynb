{
 "cells": [
  {
   "cell_type": "markdown",
   "id": "4427bcba-a2ce-4331-9ef8-f2138152d3b4",
   "metadata": {},
   "source": [
    "### np.sort"
   ]
  },
  {
   "cell_type": "code",
   "execution_count": 1,
   "id": "8ed9aae5-e093-4201-aaf4-afa7d5a53799",
   "metadata": {},
   "outputs": [
    {
     "data": {
      "text/plain": [
       "array([50, 29, 19, 49, 77, 64, 44, 51,  7, 57, 68, 13, 67, 21, 35])"
      ]
     },
     "execution_count": 1,
     "metadata": {},
     "output_type": "execute_result"
    }
   ],
   "source": [
    "import numpy as np\n",
    "\n",
    "a=np.random.randint(1,100,15)\n",
    "a"
   ]
  },
  {
   "cell_type": "code",
   "execution_count": 2,
   "id": "a5e6bf21-97ff-4e31-a3ae-a3c25dce09b2",
   "metadata": {},
   "outputs": [
    {
     "data": {
      "text/plain": [
       "array([[58, 32, 38, 74],\n",
       "       [34, 27, 98, 84],\n",
       "       [75, 83, 64, 73],\n",
       "       [37, 72, 68, 32],\n",
       "       [31,  3, 39, 38],\n",
       "       [32, 12, 73, 49]])"
      ]
     },
     "execution_count": 2,
     "metadata": {},
     "output_type": "execute_result"
    }
   ],
   "source": [
    "b=np.random.randint(1,100,24).reshape(6,4)\n",
    "b"
   ]
  },
  {
   "cell_type": "code",
   "execution_count": 3,
   "id": "7461c599-f11d-4aa6-8ba1-eda9d3bf271a",
   "metadata": {},
   "outputs": [
    {
     "data": {
      "text/plain": [
       "array([ 7, 13, 19, 21, 29, 35, 44, 49, 50, 51, 57, 64, 67, 68, 77])"
      ]
     },
     "execution_count": 3,
     "metadata": {},
     "output_type": "execute_result"
    }
   ],
   "source": [
    "np.sort(a)"
   ]
  },
  {
   "cell_type": "code",
   "execution_count": 4,
   "id": "0b84732d-d22b-4199-ad0c-1c6f3dd811e4",
   "metadata": {},
   "outputs": [
    {
     "data": {
      "text/plain": [
       "array([[32, 38, 58, 74],\n",
       "       [27, 34, 84, 98],\n",
       "       [64, 73, 75, 83],\n",
       "       [32, 37, 68, 72],\n",
       "       [ 3, 31, 38, 39],\n",
       "       [12, 32, 49, 73]])"
      ]
     },
     "execution_count": 4,
     "metadata": {},
     "output_type": "execute_result"
    }
   ],
   "source": [
    "np.sort(b)"
   ]
  },
  {
   "cell_type": "code",
   "execution_count": 5,
   "id": "70a21a0f-d1b0-425e-b58d-fc4ac801bc39",
   "metadata": {},
   "outputs": [
    {
     "data": {
      "text/plain": [
       "array([[31,  3, 38, 32],\n",
       "       [32, 12, 39, 38],\n",
       "       [34, 27, 64, 49],\n",
       "       [37, 32, 68, 73],\n",
       "       [58, 72, 73, 74],\n",
       "       [75, 83, 98, 84]])"
      ]
     },
     "execution_count": 5,
     "metadata": {},
     "output_type": "execute_result"
    }
   ],
   "source": [
    "np.sort(b,axis=0)"
   ]
  },
  {
   "cell_type": "code",
   "execution_count": 6,
   "id": "1a37de67-5e20-4ab6-9fbf-b20713c6586a",
   "metadata": {},
   "outputs": [
    {
     "data": {
      "text/plain": [
       "array([77, 68, 67, 64, 57, 51, 50, 49, 44, 35, 29, 21, 19, 13,  7])"
      ]
     },
     "execution_count": 6,
     "metadata": {},
     "output_type": "execute_result"
    }
   ],
   "source": [
    "np.sort(a)[::-1]"
   ]
  },
  {
   "cell_type": "markdown",
   "id": "11e77a2e-67dd-4f77-8649-aad60852cd68",
   "metadata": {},
   "source": [
    "### np.append"
   ]
  },
  {
   "cell_type": "code",
   "execution_count": 7,
   "id": "0bc18f0e-7ff0-44c8-9bc8-1f9925a56b9e",
   "metadata": {},
   "outputs": [
    {
     "data": {
      "text/plain": [
       "array([ 50,  29,  19,  49,  77,  64,  44,  51,   7,  57,  68,  13,  67,\n",
       "        21,  35, 200])"
      ]
     },
     "execution_count": 7,
     "metadata": {},
     "output_type": "execute_result"
    }
   ],
   "source": [
    "np.append(a,200)"
   ]
  },
  {
   "cell_type": "code",
   "execution_count": 9,
   "id": "69a8b2f0-dc2a-43cb-885a-f0830f708600",
   "metadata": {},
   "outputs": [
    {
     "data": {
      "text/plain": [
       "array([[58., 32., 38., 74.,  1.],\n",
       "       [34., 27., 98., 84.,  1.],\n",
       "       [75., 83., 64., 73.,  1.],\n",
       "       [37., 72., 68., 32.,  1.],\n",
       "       [31.,  3., 39., 38.,  1.],\n",
       "       [32., 12., 73., 49.,  1.]])"
      ]
     },
     "execution_count": 9,
     "metadata": {},
     "output_type": "execute_result"
    }
   ],
   "source": [
    "np.append(b,np.ones((b.shape[0],1)),axis=1)"
   ]
  },
  {
   "cell_type": "markdown",
   "id": "4a4d229b-8da4-4630-a7b0-cc2a71cb2dc6",
   "metadata": {},
   "source": [
    "### np.concatenate"
   ]
  },
  {
   "cell_type": "code",
   "execution_count": 10,
   "id": "a2d89b29-d9a6-4dbd-91d7-826c6e33d295",
   "metadata": {},
   "outputs": [
    {
     "name": "stdout",
     "output_type": "stream",
     "text": [
      "[[0 1 2]\n",
      " [3 4 5]]\n",
      "[[ 6  7  8]\n",
      " [ 9 10 11]]\n"
     ]
    }
   ],
   "source": [
    "c=np.arange(6).reshape(2,3)\n",
    "d=np.arange(6,12).reshape(2,3)\n",
    "\n",
    "print(c)\n",
    "print(d)"
   ]
  },
  {
   "cell_type": "code",
   "execution_count": 12,
   "id": "9062afe8-6cc8-4789-9340-f0d00016e05e",
   "metadata": {},
   "outputs": [
    {
     "data": {
      "text/plain": [
       "array([[ 0,  1,  2,  6,  7,  8],\n",
       "       [ 3,  4,  5,  9, 10, 11]])"
      ]
     },
     "execution_count": 12,
     "metadata": {},
     "output_type": "execute_result"
    }
   ],
   "source": [
    "np.concatenate((c,d),axis=1)"
   ]
  },
  {
   "cell_type": "markdown",
   "id": "53296f73-83cd-4d27-b7cd-6bb5e5ca9d70",
   "metadata": {},
   "source": [
    "### np.unique"
   ]
  },
  {
   "cell_type": "code",
   "execution_count": 13,
   "id": "1f22abdf-6de4-4321-a362-810eda18a4ea",
   "metadata": {},
   "outputs": [],
   "source": [
    "e=np.array([1,1,2,2,3,3,4,4,5,5,6,6])"
   ]
  },
  {
   "cell_type": "code",
   "execution_count": 15,
   "id": "9250220d-a77b-41fe-b600-c5ce78db3fbe",
   "metadata": {},
   "outputs": [
    {
     "data": {
      "text/plain": [
       "array([1, 2, 3, 4, 5, 6])"
      ]
     },
     "execution_count": 15,
     "metadata": {},
     "output_type": "execute_result"
    }
   ],
   "source": [
    "np.unique(e)"
   ]
  },
  {
   "cell_type": "markdown",
   "id": "964223dc-581d-44fb-a4c4-5bb685e86a2f",
   "metadata": {},
   "source": [
    "### np.expand_dims"
   ]
  },
  {
   "cell_type": "code",
   "execution_count": 17,
   "id": "f43c831f-0671-4f90-9bf6-fbb9fba58426",
   "metadata": {},
   "outputs": [
    {
     "data": {
      "text/plain": [
       "(15,)"
      ]
     },
     "execution_count": 17,
     "metadata": {},
     "output_type": "execute_result"
    }
   ],
   "source": [
    "a.shape"
   ]
  },
  {
   "cell_type": "code",
   "execution_count": 18,
   "id": "a9e5b9f6-97d5-46de-8c30-b98b6dd0c5d7",
   "metadata": {},
   "outputs": [
    {
     "data": {
      "text/plain": [
       "(1, 15)"
      ]
     },
     "execution_count": 18,
     "metadata": {},
     "output_type": "execute_result"
    }
   ],
   "source": [
    "np.expand_dims(a,axis=0).shape"
   ]
  },
  {
   "cell_type": "code",
   "execution_count": 20,
   "id": "e886284d-6937-47cf-be65-0d800c37acb5",
   "metadata": {},
   "outputs": [
    {
     "data": {
      "text/plain": [
       "array([[50],\n",
       "       [29],\n",
       "       [19],\n",
       "       [49],\n",
       "       [77],\n",
       "       [64],\n",
       "       [44],\n",
       "       [51],\n",
       "       [ 7],\n",
       "       [57],\n",
       "       [68],\n",
       "       [13],\n",
       "       [67],\n",
       "       [21],\n",
       "       [35]])"
      ]
     },
     "execution_count": 20,
     "metadata": {},
     "output_type": "execute_result"
    }
   ],
   "source": [
    "np.expand_dims(a,axis=1)"
   ]
  },
  {
   "cell_type": "markdown",
   "id": "0f0d414e-229e-43e5-9521-7f2cab79695a",
   "metadata": {},
   "source": [
    "### np.where"
   ]
  },
  {
   "cell_type": "code",
   "execution_count": 21,
   "id": "f81dc044-2f88-4420-bf81-15eeef86446a",
   "metadata": {},
   "outputs": [
    {
     "data": {
      "text/plain": [
       "array([50, 29, 19, 49, 77, 64, 44, 51,  7, 57, 68, 13, 67, 21, 35])"
      ]
     },
     "execution_count": 21,
     "metadata": {},
     "output_type": "execute_result"
    }
   ],
   "source": [
    "a"
   ]
  },
  {
   "cell_type": "code",
   "execution_count": 22,
   "id": "a0b48773-905a-41d6-8557-40bf8c448364",
   "metadata": {},
   "outputs": [
    {
     "data": {
      "text/plain": [
       "(array([ 4,  5,  7,  9, 10, 12]),)"
      ]
     },
     "execution_count": 22,
     "metadata": {},
     "output_type": "execute_result"
    }
   ],
   "source": [
    "# find all indices with value greater than 50.\n",
    "np.where(a>50)"
   ]
  },
  {
   "cell_type": "code",
   "execution_count": 23,
   "id": "1bc90eb2-04c4-4ee4-8792-19ec4b7f5e0e",
   "metadata": {},
   "outputs": [
    {
     "data": {
      "text/plain": [
       "array([50, 29, 19, 49,  0,  0, 44,  0,  7,  0,  0, 13,  0, 21, 35])"
      ]
     },
     "execution_count": 23,
     "metadata": {},
     "output_type": "execute_result"
    }
   ],
   "source": [
    "# replace all values > 50 with 0\n",
    "np.where(a>50,0,a)"
   ]
  },
  {
   "cell_type": "code",
   "execution_count": 24,
   "id": "39e8488c-7e8a-4e64-8c19-cc902b82163c",
   "metadata": {},
   "outputs": [
    {
     "data": {
      "text/plain": [
       "array([ 0, 29, 19, 49, 77,  0,  0, 51,  7, 57,  0, 13, 67, 21, 35])"
      ]
     },
     "execution_count": 24,
     "metadata": {},
     "output_type": "execute_result"
    }
   ],
   "source": [
    "np.where(a%2 == 0,0,a)"
   ]
  },
  {
   "cell_type": "code",
   "execution_count": 25,
   "id": "a5a26a5f-2bb2-4c85-99c8-6287632991e0",
   "metadata": {},
   "outputs": [
    {
     "data": {
      "text/plain": [
       "array([ 0,  0,  0, 49, 77,  0,  0,  0,  7,  0,  0,  0,  0, 21, 35])"
      ]
     },
     "execution_count": 25,
     "metadata": {},
     "output_type": "execute_result"
    }
   ],
   "source": [
    "np.where(a%7!=0,0,a)"
   ]
  },
  {
   "cell_type": "markdown",
   "id": "2d1b5b5d-7e34-428c-88a1-88bb94f57136",
   "metadata": {},
   "source": [
    "## np.argmax"
   ]
  },
  {
   "cell_type": "code",
   "execution_count": 26,
   "id": "f1394149-b2cd-42c1-a2d3-7b2e4aec4a10",
   "metadata": {},
   "outputs": [
    {
     "data": {
      "text/plain": [
       "array([50, 29, 19, 49, 77, 64, 44, 51,  7, 57, 68, 13, 67, 21, 35])"
      ]
     },
     "execution_count": 26,
     "metadata": {},
     "output_type": "execute_result"
    }
   ],
   "source": [
    "a"
   ]
  },
  {
   "cell_type": "code",
   "execution_count": 27,
   "id": "e4cc6aed-5033-4dc7-9a9c-6638e398e7da",
   "metadata": {},
   "outputs": [
    {
     "data": {
      "text/plain": [
       "4"
      ]
     },
     "execution_count": 27,
     "metadata": {},
     "output_type": "execute_result"
    }
   ],
   "source": [
    "np.argmax(a)"
   ]
  },
  {
   "cell_type": "code",
   "execution_count": 28,
   "id": "7dfb77c8-da72-4b38-a034-b0854f8bc11c",
   "metadata": {},
   "outputs": [
    {
     "data": {
      "text/plain": [
       "array([[58, 32, 38, 74],\n",
       "       [34, 27, 98, 84],\n",
       "       [75, 83, 64, 73],\n",
       "       [37, 72, 68, 32],\n",
       "       [31,  3, 39, 38],\n",
       "       [32, 12, 73, 49]])"
      ]
     },
     "execution_count": 28,
     "metadata": {},
     "output_type": "execute_result"
    }
   ],
   "source": [
    "b"
   ]
  },
  {
   "cell_type": "code",
   "execution_count": 31,
   "id": "f4779a1e-fe9b-45d1-a9da-4a9dbaad96f5",
   "metadata": {},
   "outputs": [
    {
     "data": {
      "text/plain": [
       "array([2, 2, 1, 1])"
      ]
     },
     "execution_count": 31,
     "metadata": {},
     "output_type": "execute_result"
    }
   ],
   "source": [
    "np.argmax(b,axis=0)"
   ]
  },
  {
   "cell_type": "markdown",
   "id": "31c55ea9-9d13-402c-b6f9-94b5b4e1de58",
   "metadata": {},
   "source": [
    "# np.cumsum"
   ]
  },
  {
   "cell_type": "code",
   "execution_count": 32,
   "id": "bf1cca6d-0ebb-4675-a106-9a046ebdc0f7",
   "metadata": {},
   "outputs": [
    {
     "data": {
      "text/plain": [
       "array([50, 29, 19, 49, 77, 64, 44, 51,  7, 57, 68, 13, 67, 21, 35])"
      ]
     },
     "execution_count": 32,
     "metadata": {},
     "output_type": "execute_result"
    }
   ],
   "source": [
    "a"
   ]
  },
  {
   "cell_type": "code",
   "execution_count": 33,
   "id": "868c87ef-8fa2-4d6b-b8ae-59da43b7f502",
   "metadata": {},
   "outputs": [
    {
     "data": {
      "text/plain": [
       "array([ 50,  79,  98, 147, 224, 288, 332, 383, 390, 447, 515, 528, 595,\n",
       "       616, 651])"
      ]
     },
     "execution_count": 33,
     "metadata": {},
     "output_type": "execute_result"
    }
   ],
   "source": [
    "np.cumsum(a)"
   ]
  },
  {
   "cell_type": "code",
   "execution_count": 34,
   "id": "a71fe5d1-0d43-4b0c-88d6-11c74b54d5e6",
   "metadata": {},
   "outputs": [
    {
     "data": {
      "text/plain": [
       "array([[ 58,  90, 128, 202],\n",
       "       [ 34,  61, 159, 243],\n",
       "       [ 75, 158, 222, 295],\n",
       "       [ 37, 109, 177, 209],\n",
       "       [ 31,  34,  73, 111],\n",
       "       [ 32,  44, 117, 166]])"
      ]
     },
     "execution_count": 34,
     "metadata": {},
     "output_type": "execute_result"
    }
   ],
   "source": [
    "np.cumsum(b,axis=1)"
   ]
  },
  {
   "cell_type": "markdown",
   "id": "6396a810-e7e0-4e10-9fb4-43cea7725dca",
   "metadata": {},
   "source": [
    "# np.cumprod"
   ]
  },
  {
   "cell_type": "code",
   "execution_count": 35,
   "id": "b46cab93-0248-4daf-8dd7-c544d0799ea5",
   "metadata": {},
   "outputs": [
    {
     "data": {
      "text/plain": [
       "array([                  50,                 1450,                27550,\n",
       "                    1349950,            103946150,           6652553600,\n",
       "               292712358400,       14928330278400,      104498311948800,\n",
       "           5956403781081600,   405035457113548800,  5265460942476134400,\n",
       "        2297745745419524096, -7087571567318648832, -8257331897928538112])"
      ]
     },
     "execution_count": 35,
     "metadata": {},
     "output_type": "execute_result"
    }
   ],
   "source": [
    "np.cumprod(a)"
   ]
  },
  {
   "cell_type": "markdown",
   "id": "4d5ca207-7975-49d4-9711-89f6c5157983",
   "metadata": {},
   "source": [
    "# np.percentile"
   ]
  },
  {
   "cell_type": "code",
   "execution_count": 36,
   "id": "9b85f229-5259-4721-9062-4d85b47be107",
   "metadata": {},
   "outputs": [
    {
     "data": {
      "text/plain": [
       "77.0"
      ]
     },
     "execution_count": 36,
     "metadata": {},
     "output_type": "execute_result"
    }
   ],
   "source": [
    "np.percentile(a,100)"
   ]
  },
  {
   "cell_type": "markdown",
   "id": "f3dbe7da-6c5e-4f37-b943-447b4278d036",
   "metadata": {},
   "source": [
    "# np.histogram"
   ]
  },
  {
   "cell_type": "code",
   "execution_count": 38,
   "id": "1f30184c-a7e6-4366-9a75-30403cc90bb5",
   "metadata": {},
   "outputs": [
    {
     "data": {
      "text/plain": [
       "(array([1, 2, 2, 1, 2, 3, 3, 1, 0, 0]),\n",
       " array([  0,  10,  20,  30,  40,  50,  60,  70,  80,  90, 100]))"
      ]
     },
     "execution_count": 38,
     "metadata": {},
     "output_type": "execute_result"
    }
   ],
   "source": [
    "np.histogram(a,bins=[0,10,20,30,40,50,60,70,80,90,100])"
   ]
  },
  {
   "cell_type": "markdown",
   "id": "b513b448-6508-4274-9cb0-aaec6373db19",
   "metadata": {},
   "source": [
    "# np.corrcoef"
   ]
  },
  {
   "cell_type": "code",
   "execution_count": 39,
   "id": "58d9868f-ebe5-4bab-b1ad-1f5a8148da61",
   "metadata": {},
   "outputs": [],
   "source": [
    "salary=np.array([20000,40000,25000,35000,60000])\n",
    "experience=np.array([1,3,2,4,2])"
   ]
  },
  {
   "cell_type": "code",
   "execution_count": 40,
   "id": "a6ab460b-a71a-4de7-a603-2c5138c22c68",
   "metadata": {},
   "outputs": [
    {
     "data": {
      "text/plain": [
       "array([[1.        , 0.25344572],\n",
       "       [0.25344572, 1.        ]])"
      ]
     },
     "execution_count": 40,
     "metadata": {},
     "output_type": "execute_result"
    }
   ],
   "source": [
    "np.corrcoef(salary,experience)"
   ]
  },
  {
   "cell_type": "markdown",
   "id": "65ec9f61-f9ea-4ea3-ada8-4738a6cff2b3",
   "metadata": {},
   "source": [
    "# np.isin"
   ]
  },
  {
   "cell_type": "code",
   "execution_count": 43,
   "id": "13df14f6-991e-499a-8336-bfd7ae8bfa41",
   "metadata": {},
   "outputs": [
    {
     "data": {
      "text/plain": [
       "array([50])"
      ]
     },
     "execution_count": 43,
     "metadata": {},
     "output_type": "execute_result"
    }
   ],
   "source": [
    "items=[10,20,30,40,50,60,70,80,90,100]\n",
    "a[np.isin(a,items)]"
   ]
  },
  {
   "cell_type": "markdown",
   "id": "6863bd02-d029-4f4f-b886-afb30f9ee257",
   "metadata": {},
   "source": [
    "# np.flip"
   ]
  },
  {
   "cell_type": "code",
   "execution_count": 45,
   "id": "e44a38a2-0057-418d-bec4-b350b97f3ae9",
   "metadata": {},
   "outputs": [
    {
     "name": "stdout",
     "output_type": "stream",
     "text": [
      "[50 29 19 49 77 64 44 51  7 57 68 13 67 21 35]\n"
     ]
    },
    {
     "data": {
      "text/plain": [
       "array([35, 21, 67, 13, 68, 57,  7, 51, 44, 64, 77, 49, 19, 29, 50])"
      ]
     },
     "execution_count": 45,
     "metadata": {},
     "output_type": "execute_result"
    }
   ],
   "source": [
    "print(a)\n",
    "np.flip(a)"
   ]
  },
  {
   "cell_type": "code",
   "execution_count": 46,
   "id": "a8dbd8b6-34c1-4f44-8ce9-83797b7d6e4c",
   "metadata": {},
   "outputs": [
    {
     "data": {
      "text/plain": [
       "array([[58, 32, 38, 74],\n",
       "       [34, 27, 98, 84],\n",
       "       [75, 83, 64, 73],\n",
       "       [37, 72, 68, 32],\n",
       "       [31,  3, 39, 38],\n",
       "       [32, 12, 73, 49]])"
      ]
     },
     "execution_count": 46,
     "metadata": {},
     "output_type": "execute_result"
    }
   ],
   "source": [
    "b"
   ]
  },
  {
   "cell_type": "code",
   "execution_count": 47,
   "id": "90fd1331-40e8-4d96-8dfe-2083480a199f",
   "metadata": {},
   "outputs": [
    {
     "data": {
      "text/plain": [
       "array([[49, 73, 12, 32],\n",
       "       [38, 39,  3, 31],\n",
       "       [32, 68, 72, 37],\n",
       "       [73, 64, 83, 75],\n",
       "       [84, 98, 27, 34],\n",
       "       [74, 38, 32, 58]])"
      ]
     },
     "execution_count": 47,
     "metadata": {},
     "output_type": "execute_result"
    }
   ],
   "source": [
    "np.flip(b)"
   ]
  },
  {
   "cell_type": "markdown",
   "id": "b6d966c0-c372-4572-8df5-a71b6ba9411b",
   "metadata": {},
   "source": [
    "# np.put"
   ]
  },
  {
   "cell_type": "code",
   "execution_count": 48,
   "id": "318a9b76-5e74-44f3-aae5-87a5a544def4",
   "metadata": {},
   "outputs": [
    {
     "data": {
      "text/plain": [
       "array([50, 29, 19, 49, 77, 64, 44, 51,  7, 57, 68, 13, 67, 21, 35])"
      ]
     },
     "execution_count": 48,
     "metadata": {},
     "output_type": "execute_result"
    }
   ],
   "source": [
    "a"
   ]
  },
  {
   "cell_type": "code",
   "execution_count": 49,
   "id": "e5780895-0534-4fba-b790-9a6b4f814e85",
   "metadata": {},
   "outputs": [],
   "source": [
    "np.put(a,[0,1],[110,530])"
   ]
  },
  {
   "cell_type": "code",
   "execution_count": 50,
   "id": "988a7ab9-dfe9-4eee-90d1-5c37d25d1b7a",
   "metadata": {},
   "outputs": [
    {
     "data": {
      "text/plain": [
       "array([110, 530,  19,  49,  77,  64,  44,  51,   7,  57,  68,  13,  67,\n",
       "        21,  35])"
      ]
     },
     "execution_count": 50,
     "metadata": {},
     "output_type": "execute_result"
    }
   ],
   "source": [
    "a"
   ]
  },
  {
   "cell_type": "markdown",
   "id": "347f4a32-1d91-43ac-9887-943191c2d3fb",
   "metadata": {},
   "source": [
    "# np.delete"
   ]
  },
  {
   "cell_type": "code",
   "execution_count": 51,
   "id": "af7e4df7-b590-4020-85db-109441edbdb3",
   "metadata": {},
   "outputs": [
    {
     "data": {
      "text/plain": [
       "array([530,  19,  49,  77,  64,  44,  51,   7,  57,  68,  13,  67,  21,\n",
       "        35])"
      ]
     },
     "execution_count": 51,
     "metadata": {},
     "output_type": "execute_result"
    }
   ],
   "source": [
    "np.delete(a,0)"
   ]
  },
  {
   "cell_type": "code",
   "execution_count": 52,
   "id": "ba67515a-0ed7-4e59-9770-e8962647fe02",
   "metadata": {},
   "outputs": [
    {
     "data": {
      "text/plain": [
       "array([19, 49, 77, 44, 51,  7, 57, 68, 13, 67, 21, 35])"
      ]
     },
     "execution_count": 52,
     "metadata": {},
     "output_type": "execute_result"
    }
   ],
   "source": [
    "np.delete(a,[0,1,5])"
   ]
  },
  {
   "cell_type": "code",
   "execution_count": 53,
   "id": "0354d132-88e6-42ff-a8ab-56b93d0ec983",
   "metadata": {},
   "outputs": [
    {
     "data": {
      "text/plain": [
       "array([1, 2, 3, 4, 5, 6, 7])"
      ]
     },
     "execution_count": 53,
     "metadata": {},
     "output_type": "execute_result"
    }
   ],
   "source": [
    "m=np.array([1,2,3,4,5])\n",
    "n=np.array([3,4,5,6,7])\n",
    "\n",
    "np.union1d(m,n)"
   ]
  },
  {
   "cell_type": "code",
   "execution_count": 54,
   "id": "dbc10554-0126-490c-8314-5075d1e90e14",
   "metadata": {},
   "outputs": [
    {
     "data": {
      "text/plain": [
       "array([3, 4, 5])"
      ]
     },
     "execution_count": 54,
     "metadata": {},
     "output_type": "execute_result"
    }
   ],
   "source": [
    "np.intersect1d(m,n)"
   ]
  },
  {
   "cell_type": "code",
   "execution_count": 55,
   "id": "53053ce1-18af-4365-8c00-c1c37d363f59",
   "metadata": {},
   "outputs": [
    {
     "data": {
      "text/plain": [
       "array([1, 2])"
      ]
     },
     "execution_count": 55,
     "metadata": {},
     "output_type": "execute_result"
    }
   ],
   "source": [
    "np.setdiff1d(m,n)"
   ]
  },
  {
   "cell_type": "code",
   "execution_count": 56,
   "id": "2bc969aa-ae30-4069-a71d-0a6ff6a14f16",
   "metadata": {},
   "outputs": [
    {
     "data": {
      "text/plain": [
       "array([1, 2, 6, 7])"
      ]
     },
     "execution_count": 56,
     "metadata": {},
     "output_type": "execute_result"
    }
   ],
   "source": [
    "np.setxor1d(m,n)"
   ]
  },
  {
   "cell_type": "code",
   "execution_count": 60,
   "id": "53387f25-4976-40dd-a97d-378deb0fc1b0",
   "metadata": {},
   "outputs": [
    {
     "data": {
      "text/plain": [
       "array([2])"
      ]
     },
     "execution_count": 60,
     "metadata": {},
     "output_type": "execute_result"
    }
   ],
   "source": [
    "m[np.in1d(m,2)]"
   ]
  },
  {
   "cell_type": "code",
   "execution_count": 64,
   "id": "1dfdbd61-4be4-42a2-a410-0cc1dd28e44d",
   "metadata": {},
   "outputs": [
    {
     "data": {
      "text/plain": [
       "array([[1],\n",
       "       [2],\n",
       "       [3]])"
      ]
     },
     "execution_count": 64,
     "metadata": {},
     "output_type": "execute_result"
    }
   ],
   "source": [
    "x = np.array([[1,2,3]])\n",
    "np.swapaxes(x,0,1)"
   ]
  },
  {
   "cell_type": "code",
   "execution_count": null,
   "id": "548ff39f-7ea3-46db-abe6-4ed0a36a91b8",
   "metadata": {},
   "outputs": [],
   "source": []
  }
 ],
 "metadata": {
  "kernelspec": {
   "display_name": "Python 3 (ipykernel)",
   "language": "python",
   "name": "python3"
  },
  "language_info": {
   "codemirror_mode": {
    "name": "ipython",
    "version": 3
   },
   "file_extension": ".py",
   "mimetype": "text/x-python",
   "name": "python",
   "nbconvert_exporter": "python",
   "pygments_lexer": "ipython3",
   "version": "3.10.8"
  }
 },
 "nbformat": 4,
 "nbformat_minor": 5
}
